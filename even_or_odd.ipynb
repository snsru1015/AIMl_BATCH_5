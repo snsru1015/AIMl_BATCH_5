{
 "cells": [
  {
   "cell_type": "code",
   "execution_count": null,
   "metadata": {},
   "outputs": [],
   "source": [
    "my_list = (2, 3, 4, 5)\n",
    "\n",
    "for num in my_list:\n",
    "\tif num % 2 == 0:\n",
    "\t\tprint(\"Even\")\n",
    "\telse:\n",
    "\t\tprint(\"Odd\")"
   ]
  }
 ],
 "metadata": {
  "kernelspec": {
   "display_name": "Python 3",
   "language": "python",
   "name": "python3"
  },
  "language_info": {
   "name": "python",
   "version": "3.10.13"
  }
 },
 "nbformat": 4,
 "nbformat_minor": 2
}
